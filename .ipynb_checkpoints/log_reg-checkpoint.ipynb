{
 "cells": [
  {
   "cell_type": "code",
   "execution_count": 34,
   "metadata": {
    "collapsed": true
   },
   "outputs": [],
   "source": [
    "import numpy as np\n",
    "import pandas as pd\n",
    "import matplotlib.pyplot as plt\n",
    "\n",
    "df_train = pd.read_csv('train.csv')"
   ]
  },
  {
   "cell_type": "code",
   "execution_count": 35,
   "metadata": {
    "collapsed": true
   },
   "outputs": [],
   "source": [
    "pd.set_option('display.max_columns', 500)\n",
    "pd.set_option('display.width', 1000)"
   ]
  },
  {
   "cell_type": "code",
   "execution_count": 59,
   "metadata": {},
   "outputs": [
    {
     "data": {
      "text/plain": [
       "((1787571, 34), 135155)"
      ]
     },
     "execution_count": 59,
     "metadata": {},
     "output_type": "execute_result"
    }
   ],
   "source": [
    "df_train.shape, len(df_train.ID.unique())"
   ]
  },
  {
   "cell_type": "code",
   "execution_count": 37,
   "metadata": {
    "collapsed": true
   },
   "outputs": [],
   "source": [
    "# перевод дат из строк в даты \n",
    "df_train['DTIME_CREDIT'] = pd.to_datetime( df_train['DTIME_CREDIT'], format=\"%d.%m.%Y\" )\n",
    "df_train['DTIME_CREDIT_ENDDATE'] = pd.to_datetime( df_train['DTIME_CREDIT_ENDDATE'], format=\"%d.%m.%Y\" )\n",
    "df_train['DTIME_CREDIT_ENDDATE_FACT'] = pd.to_datetime( df_train['DTIME_CREDIT_ENDDATE_FACT'], format=\"%d.%m.%Y\" )\n",
    "df_train['DTIME_CREDIT_UPDATE'] = pd.to_datetime( df_train['DTIME_CREDIT_UPDATE'], format=\"%d.%m.%Y\" )"
   ]
  },
  {
   "cell_type": "code",
   "execution_count": 56,
   "metadata": {},
   "outputs": [],
   "source": [
    "import datetime\n",
    "df_train_corr_date = df_train.copy()\n",
    "#df_train_corr_date = df_train_corr_date[df_train_corr_date['DTIME_CREDIT'] < \n",
    "#                                        datetime.datetime.strptime('01.01.2017','%d.%m.%Y') ]\n",
    "#df_train_corr_date = df_train_corr_date[df_train_corr_date['DTIME_CREDIT_ENDDATE'] < \n",
    "#                                        datetime.datetime.strptime('01.01.2017','%d.%m.%Y') ]\n",
    "#df_train_corr_date = df_train_corr_date[df_train_corr_date['DTIME_CREDIT_ENDDATE_FACT'] < \n",
    "#                                        datetime.datetime.strptime('01.01.2017','%d.%m.%Y') ]\n",
    "df_train_corr_date = df_train_corr_date[df_train_corr_date['DTIME_CREDIT_UPDATE'] < \n",
    "                                        datetime.datetime.strptime('01.01.2017','%d.%m.%Y') ]\n",
    "\n",
    "#df_train_corr_date = df_train_corr_date[df_train_corr_date['DTIME_CREDIT'] > \n",
    "#                                        datetime.datetime.strptime('01.01.2000','%d.%m.%Y') ]\n",
    "#df_train_corr_date = df_train_corr_date[df_train_corr_date['DTIME_CREDIT_ENDDATE'] > \n",
    "#                                        datetime.datetime.strptime('01.01.2000','%d.%m.%Y') ]\n",
    "#df_train_corr_date = df_train_corr_date[df_train_corr_date['DTIME_CREDIT_ENDDATE_FACT'] > \n",
    "#                                       datetime.datetime.strptime('01.01.2000','%d.%m.%Y') ]\n",
    "df_train_corr_date = df_train_corr_date[df_train_corr_date['DTIME_CREDIT_UPDATE'] > \n",
    "                                        datetime.datetime.strptime('01.01.2010','%d.%m.%Y') ]\n"
   ]
  },
  {
   "cell_type": "code",
   "execution_count": 65,
   "metadata": {},
   "outputs": [
    {
     "data": {
      "text/plain": [
       "((1787571, 34), (1659999, 34), 134315)"
      ]
     },
     "execution_count": 65,
     "metadata": {},
     "output_type": "execute_result"
    }
   ],
   "source": [
    "df_train.shape, df_train_corr_date.shape, len(df_train_corr_date['ID'].drop_duplicates())"
   ]
  },
  {
   "cell_type": "code",
   "execution_count": 69,
   "metadata": {},
   "outputs": [
    {
     "data": {
      "text/plain": [
       "135155"
      ]
     },
     "execution_count": 69,
     "metadata": {},
     "output_type": "execute_result"
    }
   ],
   "source": [
    "idx = df_train.groupby(['ID'])['DTIME_CREDIT_UPDATE'].transform(max) == df_train['DTIME_CREDIT_UPDATE']\n",
    "df_train[idx].ID.unique()"
   ]
  },
  {
   "cell_type": "code",
   "execution_count": 63,
   "metadata": {},
   "outputs": [
    {
     "data": {
      "text/plain": [
       "Timestamp('2021-09-21 00:00:00')"
      ]
     },
     "execution_count": 63,
     "metadata": {},
     "output_type": "execute_result"
    }
   ],
   "source": [
    "df_train['DTIME_CREDIT_UPDATE'].max()"
   ]
  },
  {
   "cell_type": "code",
   "execution_count": null,
   "metadata": {
    "collapsed": true
   },
   "outputs": [],
   "source": []
  }
 ],
 "metadata": {
  "kernelspec": {
   "display_name": "Python 3",
   "language": "python",
   "name": "python3"
  },
  "language_info": {
   "codemirror_mode": {
    "name": "ipython",
    "version": 3
   },
   "file_extension": ".py",
   "mimetype": "text/x-python",
   "name": "python",
   "nbconvert_exporter": "python",
   "pygments_lexer": "ipython3",
   "version": "3.6.2"
  }
 },
 "nbformat": 4,
 "nbformat_minor": 2
}
